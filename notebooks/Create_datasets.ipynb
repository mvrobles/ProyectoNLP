{
  "cells": [
    {
      "cell_type": "markdown",
      "metadata": {
        "id": "63Hi8xB6KZtc"
      },
      "source": [
        "# Proyecto - Procesamiento de lenguaje natural\n",
        "En este notebook se realiza una limpieza final de los datos recolectados y una división para las diferentes pruebas que se harán. En particular, se crearán cuatro datasets consolidados para Wayuu:\n",
        "- **Completo:** Contiene todos los datos encontrados de la biblia, constitución, cuentos y diccionarios.\n",
        "- **Completo sin la constitución:** Dado que la limpieza de los datos de la constitución se ralizó de forma manual, se probará cómo afecta sacar este dataset del corpus de entrenamiento y prueba.\n",
        "- **Completo sin el diccionario completo:** El diccionario fue un input posterior a la creación del corpus en la primera entrega. Este diccionario se obtuvo de de la página [https://osf.io/6kbze/](https://osf.io/6kbze/). Para evaluar los resultados sin este diccionario se creará un corpus que contenga únicamente textos encontrados en la primera entrega.\n",
        "- **Completo sin el diccionario de palabras solas:** Dado que el diccionario contiene anto palabras solas (por ejemplo: hola,jamaan) como frases, se evaluará el impacto de estas palabras solas en la tarea de traducción.\n",
        "\n",
        "Por otro lado, para el Arhuaco tenemos menos datos, por lo que se crearán los siguientes datasets:\n",
        "- **Completo:** Contiene los datos de la biblia, la constitución y cuentos.\n",
        "- **Sin la constitución**: Contiene los datos completos sin la constitución dado que, al igual que para el Wayuu, la constitución se realizó de forma manual.\n",
        "- **Únicamente la biblia**: Contiene los datos completos sin la constitución y sin los cuentos encontrados. Estos representan pocos datos por lo que veremos el impacto de tenerlos o no en el corpus."
      ]
    },
    {
      "cell_type": "markdown",
      "metadata": {
        "id": "gYs4lFprPdRu"
      },
      "source": [
        "# Librerías"
      ]
    },
    {
      "cell_type": "code",
      "execution_count": 69,
      "metadata": {
        "colab": {
          "base_uri": "https://localhost:8080/"
        },
        "id": "WdSXPWwFWLvK",
        "outputId": "f85e3c67-2ea6-46b9-f9e3-b9a5183205a0"
      },
      "outputs": [
        {
          "name": "stdout",
          "output_type": "stream",
          "text": [
            "Requirement already satisfied: unidecode in /usr/local/lib/python3.10/dist-packages (1.3.7)\n"
          ]
        }
      ],
      "source": [
        "!pip install unidecode"
      ]
    },
    {
      "cell_type": "code",
      "execution_count": 105,
      "metadata": {
        "id": "z2ehM0ULPeZ3"
      },
      "outputs": [],
      "source": [
        "# Textos\n",
        "import re\n",
        "from unidecode import unidecode\n",
        "\n",
        "# Datos\n",
        "import pickle\n",
        "import numpy as np\n",
        "import pandas as pd\n",
        "from glob import glob\n",
        "from tqdm import tqdm"
      ]
    },
    {
      "cell_type": "code",
      "execution_count": 71,
      "metadata": {
        "id": "k-UM5rynPuAP"
      },
      "outputs": [],
      "source": [
        "path = '/content/drive/MyDrive/Colab Notebooks/Talleres NLP/Proyecto/data_raw'"
      ]
    },
    {
      "cell_type": "code",
      "execution_count": 101,
      "metadata": {
        "id": "juD8kbdYd7NG"
      },
      "outputs": [],
      "source": [
        "path_out = '/content/drive/MyDrive/Colab Notebooks/Talleres NLP/Proyecto/data_clean'"
      ]
    },
    {
      "cell_type": "markdown",
      "metadata": {
        "id": "gRSm1Oh4PcPc"
      },
      "source": [
        "# Wayuu"
      ]
    },
    {
      "cell_type": "markdown",
      "metadata": {
        "id": "puxSfNazRVAa"
      },
      "source": [
        "### Lectura de datos"
      ]
    },
    {
      "cell_type": "code",
      "execution_count": 85,
      "metadata": {
        "colab": {
          "base_uri": "https://localhost:8080/"
        },
        "id": "POoxWEDOKXTl",
        "outputId": "9aa146c2-f518-4f28-8ac6-66a2f6f3690b"
      },
      "outputs": [
        {
          "data": {
            "text/plain": [
              "dict_keys(['diccionario', 'traduccion_AT', 'traduccion_constitucion', 'traduccion_cuento_wayuu', 'traduccion_NT'])"
            ]
          },
          "execution_count": 85,
          "metadata": {},
          "output_type": "execute_result"
        }
      ],
      "source": [
        "# Leemos los datos wayuu\n",
        "data_sets_wayuu = {}\n",
        "for ds in glob(path + '/wayuu/*'):\n",
        "  name = ds.split('/')[-1].split('.')[0]\n",
        "  data_sets_wayuu[name] = pd.read_csv(ds)\n",
        "\n",
        "# Vemos los datasets que hay\n",
        "data_sets_wayuu.keys()"
      ]
    },
    {
      "cell_type": "code",
      "execution_count": 86,
      "metadata": {
        "colab": {
          "base_uri": "https://localhost:8080/"
        },
        "id": "P_lKT57AP_2l",
        "outputId": "8261bf2b-1f1d-45a9-8f03-8694886d5f47"
      },
      "outputs": [
        {
          "data": {
            "text/plain": [
              "dict_keys(['diccionario', 'traduccion_constitucion', 'traduccion_cuento_wayuu', 'biblia'])"
            ]
          },
          "execution_count": 86,
          "metadata": {},
          "output_type": "execute_result"
        }
      ],
      "source": [
        "# Consolidación del dataset de la biblia (antiguo testamento + nuevo testamento)\n",
        "data_sets_wayuu['biblia'] = pd.concat([data_sets_wayuu.pop('traduccion_AT'), data_sets_wayuu.pop('traduccion_NT')])\n",
        "\n",
        "# Vemos los datasets que hay\n",
        "data_sets_wayuu.keys()"
      ]
    },
    {
      "cell_type": "markdown",
      "metadata": {
        "id": "kFc-VORDRWVv"
      },
      "source": [
        "### Limpieza"
      ]
    },
    {
      "cell_type": "code",
      "execution_count": 87,
      "metadata": {
        "id": "cmXB2cCfROuJ"
      },
      "outputs": [],
      "source": [
        "# Función para limpieza\n",
        "\n",
        "def clean_text(text: str)->str:\n",
        "  \"\"\"\n",
        "  Realiza una limpieza del texto. Pasa el texto a minúsculas, elimina números al inicio de las frases\n",
        "  (pueden deberse a el número de versículo de la biblia), elimina caracteres no alfa-numéricos y por último\n",
        "  reemplaza los números por un token especial NUM.\n",
        "\n",
        "  input:\n",
        "  - text: texto a limpiar\n",
        "\n",
        "  output:\n",
        "  - clean_text: texto limpio\n",
        "  \"\"\"\n",
        "  # Pasar a minúsculas y quitar espacios antes y después\n",
        "  clean_text = text.lower().strip()\n",
        "\n",
        "  # Quitamos tildes\n",
        "  clean_text = unidecode(clean_text)\n",
        "\n",
        "  # Eliminar números al inicio de las frases\n",
        "  patron = re.compile(r'^\\d+')\n",
        "  clean_text = patron.sub('', clean_text).strip()\n",
        "\n",
        "  # Eliminar caracteres no alfa numéricos.\n",
        "  # Dejamos algunos como el ' que es importante en las lenguas, los puntos y las comas\n",
        "  clean_text = re.sub(r'[^a-z0-9\\s,.\\'\\ʼü]', ' ', clean_text)\n",
        "\n",
        "  # Agregamos el token NUM para números\n",
        "  clean_text = re.sub(r'\\d+', 'NUM', clean_text)\n",
        "\n",
        "  return clean_text"
      ]
    },
    {
      "cell_type": "code",
      "execution_count": 88,
      "metadata": {
        "id": "kBObsFf5Uor5"
      },
      "outputs": [],
      "source": [
        "# Cambiamos el nombre de las columnas del diccionario\n",
        "data_sets_wayuu['diccionario'].rename(columns = {'spa': 'esp', 'guc': 'wayuu'}, inplace = True)"
      ]
    },
    {
      "cell_type": "code",
      "execution_count": 89,
      "metadata": {
        "colab": {
          "base_uri": "https://localhost:8080/",
          "height": 206
        },
        "id": "muaQCxWsU7X3",
        "outputId": "3aa037ea-8135-4f0b-e06b-a54c906dc265"
      },
      "outputs": [
        {
          "data": {
            "text/html": [
              "\n",
              "  <div id=\"df-0303d8bb-d8a3-411a-8fcf-91fec671e732\" class=\"colab-df-container\">\n",
              "    <div>\n",
              "<style scoped>\n",
              "    .dataframe tbody tr th:only-of-type {\n",
              "        vertical-align: middle;\n",
              "    }\n",
              "\n",
              "    .dataframe tbody tr th {\n",
              "        vertical-align: top;\n",
              "    }\n",
              "\n",
              "    .dataframe thead th {\n",
              "        text-align: right;\n",
              "    }\n",
              "</style>\n",
              "<table border=\"1\" class=\"dataframe\">\n",
              "  <thead>\n",
              "    <tr style=\"text-align: right;\">\n",
              "      <th></th>\n",
              "      <th>wayuu</th>\n",
              "      <th>esp</th>\n",
              "    </tr>\n",
              "  </thead>\n",
              "  <tbody>\n",
              "    <tr>\n",
              "      <th>0</th>\n",
              "      <td>0 Je tü jososhiipaʼakat, niʼitaain “Mmain” sün...</td>\n",
              "      <td>Cuando Dios, en el principio,creó los cielos y...</td>\n",
              "    </tr>\n",
              "    <tr>\n",
              "      <th>1</th>\n",
              "      <td>maaʼinyatuuisü tü mmakat sümaa manouktuuyuliai...</td>\n",
              "      <td>la tierra era una masa caóticay las tinieblas ...</td>\n",
              "    </tr>\n",
              "    <tr>\n",
              "      <th>2</th>\n",
              "      <td>“Anakaja warattuuliraa sümüle”, nümakalaka chi...</td>\n",
              "      <td>Entonces dijo Dios:—¡Que exista la luz!Y la lu...</td>\n",
              "    </tr>\n",
              "    <tr>\n",
              "      <th>3</th>\n",
              "      <td>Je süka eeitpain warattuui, talatüshi maʼi chi...</td>\n",
              "      <td>Al ver Dios que la luz era buena,la separó de ...</td>\n",
              "    </tr>\n",
              "    <tr>\n",
              "      <th>4</th>\n",
              "      <td>Je tü warattuuliikat, niʼitaain “kaʼin” sünüli...</td>\n",
              "      <td>llamando a la luz «día»y a las tinieblas, «noc...</td>\n",
              "    </tr>\n",
              "  </tbody>\n",
              "</table>\n",
              "</div>\n",
              "    <div class=\"colab-df-buttons\">\n",
              "\n",
              "  <div class=\"colab-df-container\">\n",
              "    <button class=\"colab-df-convert\" onclick=\"convertToInteractive('df-0303d8bb-d8a3-411a-8fcf-91fec671e732')\"\n",
              "            title=\"Convert this dataframe to an interactive table.\"\n",
              "            style=\"display:none;\">\n",
              "\n",
              "  <svg xmlns=\"http://www.w3.org/2000/svg\" height=\"24px\" viewBox=\"0 -960 960 960\">\n",
              "    <path d=\"M120-120v-720h720v720H120Zm60-500h600v-160H180v160Zm220 220h160v-160H400v160Zm0 220h160v-160H400v160ZM180-400h160v-160H180v160Zm440 0h160v-160H620v160ZM180-180h160v-160H180v160Zm440 0h160v-160H620v160Z\"/>\n",
              "  </svg>\n",
              "    </button>\n",
              "\n",
              "  <style>\n",
              "    .colab-df-container {\n",
              "      display:flex;\n",
              "      gap: 12px;\n",
              "    }\n",
              "\n",
              "    .colab-df-convert {\n",
              "      background-color: #E8F0FE;\n",
              "      border: none;\n",
              "      border-radius: 50%;\n",
              "      cursor: pointer;\n",
              "      display: none;\n",
              "      fill: #1967D2;\n",
              "      height: 32px;\n",
              "      padding: 0 0 0 0;\n",
              "      width: 32px;\n",
              "    }\n",
              "\n",
              "    .colab-df-convert:hover {\n",
              "      background-color: #E2EBFA;\n",
              "      box-shadow: 0px 1px 2px rgba(60, 64, 67, 0.3), 0px 1px 3px 1px rgba(60, 64, 67, 0.15);\n",
              "      fill: #174EA6;\n",
              "    }\n",
              "\n",
              "    .colab-df-buttons div {\n",
              "      margin-bottom: 4px;\n",
              "    }\n",
              "\n",
              "    [theme=dark] .colab-df-convert {\n",
              "      background-color: #3B4455;\n",
              "      fill: #D2E3FC;\n",
              "    }\n",
              "\n",
              "    [theme=dark] .colab-df-convert:hover {\n",
              "      background-color: #434B5C;\n",
              "      box-shadow: 0px 1px 3px 1px rgba(0, 0, 0, 0.15);\n",
              "      filter: drop-shadow(0px 1px 2px rgba(0, 0, 0, 0.3));\n",
              "      fill: #FFFFFF;\n",
              "    }\n",
              "  </style>\n",
              "\n",
              "    <script>\n",
              "      const buttonEl =\n",
              "        document.querySelector('#df-0303d8bb-d8a3-411a-8fcf-91fec671e732 button.colab-df-convert');\n",
              "      buttonEl.style.display =\n",
              "        google.colab.kernel.accessAllowed ? 'block' : 'none';\n",
              "\n",
              "      async function convertToInteractive(key) {\n",
              "        const element = document.querySelector('#df-0303d8bb-d8a3-411a-8fcf-91fec671e732');\n",
              "        const dataTable =\n",
              "          await google.colab.kernel.invokeFunction('convertToInteractive',\n",
              "                                                    [key], {});\n",
              "        if (!dataTable) return;\n",
              "\n",
              "        const docLinkHtml = 'Like what you see? Visit the ' +\n",
              "          '<a target=\"_blank\" href=https://colab.research.google.com/notebooks/data_table.ipynb>data table notebook</a>'\n",
              "          + ' to learn more about interactive tables.';\n",
              "        element.innerHTML = '';\n",
              "        dataTable['output_type'] = 'display_data';\n",
              "        await google.colab.output.renderOutput(dataTable, element);\n",
              "        const docLink = document.createElement('div');\n",
              "        docLink.innerHTML = docLinkHtml;\n",
              "        element.appendChild(docLink);\n",
              "      }\n",
              "    </script>\n",
              "  </div>\n",
              "\n",
              "\n",
              "<div id=\"df-44cc65d5-d87d-48a7-a5e9-3edc91bd34a8\">\n",
              "  <button class=\"colab-df-quickchart\" onclick=\"quickchart('df-44cc65d5-d87d-48a7-a5e9-3edc91bd34a8')\"\n",
              "            title=\"Suggest charts\"\n",
              "            style=\"display:none;\">\n",
              "\n",
              "<svg xmlns=\"http://www.w3.org/2000/svg\" height=\"24px\"viewBox=\"0 0 24 24\"\n",
              "     width=\"24px\">\n",
              "    <g>\n",
              "        <path d=\"M19 3H5c-1.1 0-2 .9-2 2v14c0 1.1.9 2 2 2h14c1.1 0 2-.9 2-2V5c0-1.1-.9-2-2-2zM9 17H7v-7h2v7zm4 0h-2V7h2v10zm4 0h-2v-4h2v4z\"/>\n",
              "    </g>\n",
              "</svg>\n",
              "  </button>\n",
              "\n",
              "<style>\n",
              "  .colab-df-quickchart {\n",
              "      --bg-color: #E8F0FE;\n",
              "      --fill-color: #1967D2;\n",
              "      --hover-bg-color: #E2EBFA;\n",
              "      --hover-fill-color: #174EA6;\n",
              "      --disabled-fill-color: #AAA;\n",
              "      --disabled-bg-color: #DDD;\n",
              "  }\n",
              "\n",
              "  [theme=dark] .colab-df-quickchart {\n",
              "      --bg-color: #3B4455;\n",
              "      --fill-color: #D2E3FC;\n",
              "      --hover-bg-color: #434B5C;\n",
              "      --hover-fill-color: #FFFFFF;\n",
              "      --disabled-bg-color: #3B4455;\n",
              "      --disabled-fill-color: #666;\n",
              "  }\n",
              "\n",
              "  .colab-df-quickchart {\n",
              "    background-color: var(--bg-color);\n",
              "    border: none;\n",
              "    border-radius: 50%;\n",
              "    cursor: pointer;\n",
              "    display: none;\n",
              "    fill: var(--fill-color);\n",
              "    height: 32px;\n",
              "    padding: 0;\n",
              "    width: 32px;\n",
              "  }\n",
              "\n",
              "  .colab-df-quickchart:hover {\n",
              "    background-color: var(--hover-bg-color);\n",
              "    box-shadow: 0 1px 2px rgba(60, 64, 67, 0.3), 0 1px 3px 1px rgba(60, 64, 67, 0.15);\n",
              "    fill: var(--button-hover-fill-color);\n",
              "  }\n",
              "\n",
              "  .colab-df-quickchart-complete:disabled,\n",
              "  .colab-df-quickchart-complete:disabled:hover {\n",
              "    background-color: var(--disabled-bg-color);\n",
              "    fill: var(--disabled-fill-color);\n",
              "    box-shadow: none;\n",
              "  }\n",
              "\n",
              "  .colab-df-spinner {\n",
              "    border: 2px solid var(--fill-color);\n",
              "    border-color: transparent;\n",
              "    border-bottom-color: var(--fill-color);\n",
              "    animation:\n",
              "      spin 1s steps(1) infinite;\n",
              "  }\n",
              "\n",
              "  @keyframes spin {\n",
              "    0% {\n",
              "      border-color: transparent;\n",
              "      border-bottom-color: var(--fill-color);\n",
              "      border-left-color: var(--fill-color);\n",
              "    }\n",
              "    20% {\n",
              "      border-color: transparent;\n",
              "      border-left-color: var(--fill-color);\n",
              "      border-top-color: var(--fill-color);\n",
              "    }\n",
              "    30% {\n",
              "      border-color: transparent;\n",
              "      border-left-color: var(--fill-color);\n",
              "      border-top-color: var(--fill-color);\n",
              "      border-right-color: var(--fill-color);\n",
              "    }\n",
              "    40% {\n",
              "      border-color: transparent;\n",
              "      border-right-color: var(--fill-color);\n",
              "      border-top-color: var(--fill-color);\n",
              "    }\n",
              "    60% {\n",
              "      border-color: transparent;\n",
              "      border-right-color: var(--fill-color);\n",
              "    }\n",
              "    80% {\n",
              "      border-color: transparent;\n",
              "      border-right-color: var(--fill-color);\n",
              "      border-bottom-color: var(--fill-color);\n",
              "    }\n",
              "    90% {\n",
              "      border-color: transparent;\n",
              "      border-bottom-color: var(--fill-color);\n",
              "    }\n",
              "  }\n",
              "</style>\n",
              "\n",
              "  <script>\n",
              "    async function quickchart(key) {\n",
              "      const quickchartButtonEl =\n",
              "        document.querySelector('#' + key + ' button');\n",
              "      quickchartButtonEl.disabled = true;  // To prevent multiple clicks.\n",
              "      quickchartButtonEl.classList.add('colab-df-spinner');\n",
              "      try {\n",
              "        const charts = await google.colab.kernel.invokeFunction(\n",
              "            'suggestCharts', [key], {});\n",
              "      } catch (error) {\n",
              "        console.error('Error during call to suggestCharts:', error);\n",
              "      }\n",
              "      quickchartButtonEl.classList.remove('colab-df-spinner');\n",
              "      quickchartButtonEl.classList.add('colab-df-quickchart-complete');\n",
              "    }\n",
              "    (() => {\n",
              "      let quickchartButtonEl =\n",
              "        document.querySelector('#df-44cc65d5-d87d-48a7-a5e9-3edc91bd34a8 button');\n",
              "      quickchartButtonEl.style.display =\n",
              "        google.colab.kernel.accessAllowed ? 'block' : 'none';\n",
              "    })();\n",
              "  </script>\n",
              "</div>\n",
              "    </div>\n",
              "  </div>\n"
            ],
            "text/plain": [
              "                                               wayuu  \\\n",
              "0  0 Je tü jososhiipaʼakat, niʼitaain “Mmain” sün...   \n",
              "1  maaʼinyatuuisü tü mmakat sümaa manouktuuyuliai...   \n",
              "2  “Anakaja warattuuliraa sümüle”, nümakalaka chi...   \n",
              "3  Je süka eeitpain warattuui, talatüshi maʼi chi...   \n",
              "4  Je tü warattuuliikat, niʼitaain “kaʼin” sünüli...   \n",
              "\n",
              "                                                 esp  \n",
              "0  Cuando Dios, en el principio,creó los cielos y...  \n",
              "1  la tierra era una masa caóticay las tinieblas ...  \n",
              "2  Entonces dijo Dios:—¡Que exista la luz!Y la lu...  \n",
              "3  Al ver Dios que la luz era buena,la separó de ...  \n",
              "4  llamando a la luz «día»y a las tinieblas, «noc...  "
            ]
          },
          "execution_count": 89,
          "metadata": {},
          "output_type": "execute_result"
        }
      ],
      "source": [
        "# Veamos cómo están los datos antes\n",
        "data_sets_wayuu['biblia'].head()"
      ]
    },
    {
      "cell_type": "code",
      "execution_count": 90,
      "metadata": {
        "id": "M7YToQYBT45c"
      },
      "outputs": [],
      "source": [
        "# Limpiamos todos los textos que tenemos\n",
        "for key, ds in data_sets_wayuu.items():\n",
        "  ds.dropna(inplace = True)\n",
        "  ds['esp'] = ds['esp'].apply(clean_text)\n",
        "  ds['wayuu'] = ds['wayuu'].apply(clean_text)\n",
        "  data_sets_wayuu[key] = ds[['esp', 'wayuu']]"
      ]
    },
    {
      "cell_type": "code",
      "execution_count": 91,
      "metadata": {
        "colab": {
          "base_uri": "https://localhost:8080/",
          "height": 206
        },
        "id": "ILEO6X60UEaK",
        "outputId": "ba5e87c7-de3f-422c-e69e-86db7fb59113"
      },
      "outputs": [
        {
          "data": {
            "text/html": [
              "\n",
              "  <div id=\"df-b5fccc4f-21ee-4329-ab2d-df3cece4d42d\" class=\"colab-df-container\">\n",
              "    <div>\n",
              "<style scoped>\n",
              "    .dataframe tbody tr th:only-of-type {\n",
              "        vertical-align: middle;\n",
              "    }\n",
              "\n",
              "    .dataframe tbody tr th {\n",
              "        vertical-align: top;\n",
              "    }\n",
              "\n",
              "    .dataframe thead th {\n",
              "        text-align: right;\n",
              "    }\n",
              "</style>\n",
              "<table border=\"1\" class=\"dataframe\">\n",
              "  <thead>\n",
              "    <tr style=\"text-align: right;\">\n",
              "      <th></th>\n",
              "      <th>esp</th>\n",
              "      <th>wayuu</th>\n",
              "    </tr>\n",
              "  </thead>\n",
              "  <tbody>\n",
              "    <tr>\n",
              "      <th>0</th>\n",
              "      <td>cuando dios, en el principio,creo los cielos y...</td>\n",
              "      <td>je tu jososhiipa'akat, ni'itaain  mmain  sunul...</td>\n",
              "    </tr>\n",
              "    <tr>\n",
              "      <th>1</th>\n",
              "      <td>la tierra era una masa caoticay las tinieblas ...</td>\n",
              "      <td>maa'inyatuuisu tu mmakat sumaa manouktuuyuliai...</td>\n",
              "    </tr>\n",
              "    <tr>\n",
              "      <th>2</th>\n",
              "      <td>entonces dijo dios    que exista la luz y la l...</td>\n",
              "      <td>anakaja warattuuliraa sumule , numakalaka chi...</td>\n",
              "    </tr>\n",
              "    <tr>\n",
              "      <th>3</th>\n",
              "      <td>al ver dios que la luz era buena,la separo de ...</td>\n",
              "      <td>je suka eeitpain warattuui, talatushi ma'i chi...</td>\n",
              "    </tr>\n",
              "    <tr>\n",
              "      <th>4</th>\n",
              "      <td>llamando a la luz   dia  y a las tinieblas,   ...</td>\n",
              "      <td>je tu warattuuliikat, ni'itaain  ka'in  sunuli...</td>\n",
              "    </tr>\n",
              "  </tbody>\n",
              "</table>\n",
              "</div>\n",
              "    <div class=\"colab-df-buttons\">\n",
              "\n",
              "  <div class=\"colab-df-container\">\n",
              "    <button class=\"colab-df-convert\" onclick=\"convertToInteractive('df-b5fccc4f-21ee-4329-ab2d-df3cece4d42d')\"\n",
              "            title=\"Convert this dataframe to an interactive table.\"\n",
              "            style=\"display:none;\">\n",
              "\n",
              "  <svg xmlns=\"http://www.w3.org/2000/svg\" height=\"24px\" viewBox=\"0 -960 960 960\">\n",
              "    <path d=\"M120-120v-720h720v720H120Zm60-500h600v-160H180v160Zm220 220h160v-160H400v160Zm0 220h160v-160H400v160ZM180-400h160v-160H180v160Zm440 0h160v-160H620v160ZM180-180h160v-160H180v160Zm440 0h160v-160H620v160Z\"/>\n",
              "  </svg>\n",
              "    </button>\n",
              "\n",
              "  <style>\n",
              "    .colab-df-container {\n",
              "      display:flex;\n",
              "      gap: 12px;\n",
              "    }\n",
              "\n",
              "    .colab-df-convert {\n",
              "      background-color: #E8F0FE;\n",
              "      border: none;\n",
              "      border-radius: 50%;\n",
              "      cursor: pointer;\n",
              "      display: none;\n",
              "      fill: #1967D2;\n",
              "      height: 32px;\n",
              "      padding: 0 0 0 0;\n",
              "      width: 32px;\n",
              "    }\n",
              "\n",
              "    .colab-df-convert:hover {\n",
              "      background-color: #E2EBFA;\n",
              "      box-shadow: 0px 1px 2px rgba(60, 64, 67, 0.3), 0px 1px 3px 1px rgba(60, 64, 67, 0.15);\n",
              "      fill: #174EA6;\n",
              "    }\n",
              "\n",
              "    .colab-df-buttons div {\n",
              "      margin-bottom: 4px;\n",
              "    }\n",
              "\n",
              "    [theme=dark] .colab-df-convert {\n",
              "      background-color: #3B4455;\n",
              "      fill: #D2E3FC;\n",
              "    }\n",
              "\n",
              "    [theme=dark] .colab-df-convert:hover {\n",
              "      background-color: #434B5C;\n",
              "      box-shadow: 0px 1px 3px 1px rgba(0, 0, 0, 0.15);\n",
              "      filter: drop-shadow(0px 1px 2px rgba(0, 0, 0, 0.3));\n",
              "      fill: #FFFFFF;\n",
              "    }\n",
              "  </style>\n",
              "\n",
              "    <script>\n",
              "      const buttonEl =\n",
              "        document.querySelector('#df-b5fccc4f-21ee-4329-ab2d-df3cece4d42d button.colab-df-convert');\n",
              "      buttonEl.style.display =\n",
              "        google.colab.kernel.accessAllowed ? 'block' : 'none';\n",
              "\n",
              "      async function convertToInteractive(key) {\n",
              "        const element = document.querySelector('#df-b5fccc4f-21ee-4329-ab2d-df3cece4d42d');\n",
              "        const dataTable =\n",
              "          await google.colab.kernel.invokeFunction('convertToInteractive',\n",
              "                                                    [key], {});\n",
              "        if (!dataTable) return;\n",
              "\n",
              "        const docLinkHtml = 'Like what you see? Visit the ' +\n",
              "          '<a target=\"_blank\" href=https://colab.research.google.com/notebooks/data_table.ipynb>data table notebook</a>'\n",
              "          + ' to learn more about interactive tables.';\n",
              "        element.innerHTML = '';\n",
              "        dataTable['output_type'] = 'display_data';\n",
              "        await google.colab.output.renderOutput(dataTable, element);\n",
              "        const docLink = document.createElement('div');\n",
              "        docLink.innerHTML = docLinkHtml;\n",
              "        element.appendChild(docLink);\n",
              "      }\n",
              "    </script>\n",
              "  </div>\n",
              "\n",
              "\n",
              "<div id=\"df-69015156-264d-4afa-a1fe-6e8aad034296\">\n",
              "  <button class=\"colab-df-quickchart\" onclick=\"quickchart('df-69015156-264d-4afa-a1fe-6e8aad034296')\"\n",
              "            title=\"Suggest charts\"\n",
              "            style=\"display:none;\">\n",
              "\n",
              "<svg xmlns=\"http://www.w3.org/2000/svg\" height=\"24px\"viewBox=\"0 0 24 24\"\n",
              "     width=\"24px\">\n",
              "    <g>\n",
              "        <path d=\"M19 3H5c-1.1 0-2 .9-2 2v14c0 1.1.9 2 2 2h14c1.1 0 2-.9 2-2V5c0-1.1-.9-2-2-2zM9 17H7v-7h2v7zm4 0h-2V7h2v10zm4 0h-2v-4h2v4z\"/>\n",
              "    </g>\n",
              "</svg>\n",
              "  </button>\n",
              "\n",
              "<style>\n",
              "  .colab-df-quickchart {\n",
              "      --bg-color: #E8F0FE;\n",
              "      --fill-color: #1967D2;\n",
              "      --hover-bg-color: #E2EBFA;\n",
              "      --hover-fill-color: #174EA6;\n",
              "      --disabled-fill-color: #AAA;\n",
              "      --disabled-bg-color: #DDD;\n",
              "  }\n",
              "\n",
              "  [theme=dark] .colab-df-quickchart {\n",
              "      --bg-color: #3B4455;\n",
              "      --fill-color: #D2E3FC;\n",
              "      --hover-bg-color: #434B5C;\n",
              "      --hover-fill-color: #FFFFFF;\n",
              "      --disabled-bg-color: #3B4455;\n",
              "      --disabled-fill-color: #666;\n",
              "  }\n",
              "\n",
              "  .colab-df-quickchart {\n",
              "    background-color: var(--bg-color);\n",
              "    border: none;\n",
              "    border-radius: 50%;\n",
              "    cursor: pointer;\n",
              "    display: none;\n",
              "    fill: var(--fill-color);\n",
              "    height: 32px;\n",
              "    padding: 0;\n",
              "    width: 32px;\n",
              "  }\n",
              "\n",
              "  .colab-df-quickchart:hover {\n",
              "    background-color: var(--hover-bg-color);\n",
              "    box-shadow: 0 1px 2px rgba(60, 64, 67, 0.3), 0 1px 3px 1px rgba(60, 64, 67, 0.15);\n",
              "    fill: var(--button-hover-fill-color);\n",
              "  }\n",
              "\n",
              "  .colab-df-quickchart-complete:disabled,\n",
              "  .colab-df-quickchart-complete:disabled:hover {\n",
              "    background-color: var(--disabled-bg-color);\n",
              "    fill: var(--disabled-fill-color);\n",
              "    box-shadow: none;\n",
              "  }\n",
              "\n",
              "  .colab-df-spinner {\n",
              "    border: 2px solid var(--fill-color);\n",
              "    border-color: transparent;\n",
              "    border-bottom-color: var(--fill-color);\n",
              "    animation:\n",
              "      spin 1s steps(1) infinite;\n",
              "  }\n",
              "\n",
              "  @keyframes spin {\n",
              "    0% {\n",
              "      border-color: transparent;\n",
              "      border-bottom-color: var(--fill-color);\n",
              "      border-left-color: var(--fill-color);\n",
              "    }\n",
              "    20% {\n",
              "      border-color: transparent;\n",
              "      border-left-color: var(--fill-color);\n",
              "      border-top-color: var(--fill-color);\n",
              "    }\n",
              "    30% {\n",
              "      border-color: transparent;\n",
              "      border-left-color: var(--fill-color);\n",
              "      border-top-color: var(--fill-color);\n",
              "      border-right-color: var(--fill-color);\n",
              "    }\n",
              "    40% {\n",
              "      border-color: transparent;\n",
              "      border-right-color: var(--fill-color);\n",
              "      border-top-color: var(--fill-color);\n",
              "    }\n",
              "    60% {\n",
              "      border-color: transparent;\n",
              "      border-right-color: var(--fill-color);\n",
              "    }\n",
              "    80% {\n",
              "      border-color: transparent;\n",
              "      border-right-color: var(--fill-color);\n",
              "      border-bottom-color: var(--fill-color);\n",
              "    }\n",
              "    90% {\n",
              "      border-color: transparent;\n",
              "      border-bottom-color: var(--fill-color);\n",
              "    }\n",
              "  }\n",
              "</style>\n",
              "\n",
              "  <script>\n",
              "    async function quickchart(key) {\n",
              "      const quickchartButtonEl =\n",
              "        document.querySelector('#' + key + ' button');\n",
              "      quickchartButtonEl.disabled = true;  // To prevent multiple clicks.\n",
              "      quickchartButtonEl.classList.add('colab-df-spinner');\n",
              "      try {\n",
              "        const charts = await google.colab.kernel.invokeFunction(\n",
              "            'suggestCharts', [key], {});\n",
              "      } catch (error) {\n",
              "        console.error('Error during call to suggestCharts:', error);\n",
              "      }\n",
              "      quickchartButtonEl.classList.remove('colab-df-spinner');\n",
              "      quickchartButtonEl.classList.add('colab-df-quickchart-complete');\n",
              "    }\n",
              "    (() => {\n",
              "      let quickchartButtonEl =\n",
              "        document.querySelector('#df-69015156-264d-4afa-a1fe-6e8aad034296 button');\n",
              "      quickchartButtonEl.style.display =\n",
              "        google.colab.kernel.accessAllowed ? 'block' : 'none';\n",
              "    })();\n",
              "  </script>\n",
              "</div>\n",
              "    </div>\n",
              "  </div>\n"
            ],
            "text/plain": [
              "                                                 esp  \\\n",
              "0  cuando dios, en el principio,creo los cielos y...   \n",
              "1  la tierra era una masa caoticay las tinieblas ...   \n",
              "2  entonces dijo dios    que exista la luz y la l...   \n",
              "3  al ver dios que la luz era buena,la separo de ...   \n",
              "4  llamando a la luz   dia  y a las tinieblas,   ...   \n",
              "\n",
              "                                               wayuu  \n",
              "0  je tu jososhiipa'akat, ni'itaain  mmain  sunul...  \n",
              "1  maa'inyatuuisu tu mmakat sumaa manouktuuyuliai...  \n",
              "2   anakaja warattuuliraa sumule , numakalaka chi...  \n",
              "3  je suka eeitpain warattuui, talatushi ma'i chi...  \n",
              "4  je tu warattuuliikat, ni'itaain  ka'in  sunuli...  "
            ]
          },
          "execution_count": 91,
          "metadata": {},
          "output_type": "execute_result"
        }
      ],
      "source": [
        "# Veamos cómo quedaron los datos\n",
        "data_sets_wayuu['biblia'].head()"
      ]
    },
    {
      "cell_type": "markdown",
      "metadata": {
        "id": "PhqSRSUTYQk1"
      },
      "source": [
        "### Separar"
      ]
    },
    {
      "cell_type": "code",
      "execution_count": 93,
      "metadata": {
        "colab": {
          "base_uri": "https://localhost:8080/"
        },
        "id": "5UM190x0U2qC",
        "outputId": "ef8ca137-d8fd-40a7-fd54-9fda96fa6642"
      },
      "outputs": [
        {
          "data": {
            "text/plain": [
              "(81415, 2)"
            ]
          },
          "execution_count": 93,
          "metadata": {},
          "output_type": "execute_result"
        }
      ],
      "source": [
        "# Dataset completo\n",
        "data_set_completo = pd.concat([data_sets_wayuu['biblia'],\n",
        "                      data_sets_wayuu['traduccion_constitucion'],\n",
        "                      data_sets_wayuu['traduccion_cuento_wayuu'],\n",
        "                      data_sets_wayuu['diccionario']]).drop_duplicates()\n",
        "\n",
        "data_set_completo.shape"
      ]
    },
    {
      "cell_type": "code",
      "execution_count": 94,
      "metadata": {
        "colab": {
          "base_uri": "https://localhost:8080/"
        },
        "id": "tZGWO3GuYlOX",
        "outputId": "2859cf4e-c9ca-4ae0-8fff-c7285656156b"
      },
      "outputs": [
        {
          "data": {
            "text/plain": [
              "(81284, 2)"
            ]
          },
          "execution_count": 94,
          "metadata": {},
          "output_type": "execute_result"
        }
      ],
      "source": [
        "# Sin constitución\n",
        "sin_constitucion = pd.concat([data_sets_wayuu['biblia'],\n",
        "                      data_sets_wayuu['traduccion_cuento_wayuu'],\n",
        "                      data_sets_wayuu['diccionario']]).drop_duplicates()\n",
        "\n",
        "sin_constitucion.shape"
      ]
    },
    {
      "cell_type": "code",
      "execution_count": 95,
      "metadata": {
        "colab": {
          "base_uri": "https://localhost:8080/"
        },
        "id": "GFIkEfkNYl3O",
        "outputId": "88fc377f-0bb1-4e07-a414-73378469d731"
      },
      "outputs": [
        {
          "data": {
            "text/plain": [
              "(8939, 2)"
            ]
          },
          "execution_count": 95,
          "metadata": {},
          "output_type": "execute_result"
        }
      ],
      "source": [
        "# Sin diccionario\n",
        "sin_diccionario = pd.concat([data_sets_wayuu['biblia'],\n",
        "                      data_sets_wayuu['traduccion_constitucion'],\n",
        "                      data_sets_wayuu['traduccion_cuento_wayuu']]).drop_duplicates()\n",
        "\n",
        "sin_diccionario.shape"
      ]
    },
    {
      "cell_type": "code",
      "execution_count": 100,
      "metadata": {
        "colab": {
          "base_uri": "https://localhost:8080/"
        },
        "id": "yWKyWfz9blIl",
        "outputId": "b62ab574-c94e-4fe8-b0da-0f8de8f4b885"
      },
      "outputs": [
        {
          "data": {
            "text/plain": [
              "(79248, 2)"
            ]
          },
          "execution_count": 100,
          "metadata": {},
          "output_type": "execute_result"
        }
      ],
      "source": [
        "# Sin diccionario de palabras solas\n",
        "dic = data_sets_wayuu['diccionario']\n",
        "num_palabras = dic.esp.apply(lambda x: len(x.split(' ')))\n",
        "\n",
        "diccionario_sin_palabras_unicas = dic[num_palabras > 1]\n",
        "\n",
        "sin_palabras_unicas_diccionario = pd.concat([data_sets_wayuu['biblia'],\n",
        "                      data_sets_wayuu['traduccion_constitucion'],\n",
        "                      data_sets_wayuu['traduccion_cuento_wayuu'],\n",
        "                      diccionario_sin_palabras_unicas]).drop_duplicates()\n",
        "\n",
        "sin_palabras_unicas_diccionario.shape"
      ]
    },
    {
      "cell_type": "markdown",
      "metadata": {
        "id": "0RRLCUXScOM2"
      },
      "source": [
        "### Guardar"
      ]
    },
    {
      "cell_type": "code",
      "execution_count": 102,
      "metadata": {
        "id": "CjixPec_bs8A"
      },
      "outputs": [],
      "source": [
        "#data_set_completo.to_csv(path_out + '/wayuu/COMP.csv', index = None)\n",
        "#sin_constitucion.to_csv(path_out + '/wayuu/COMP_NC.csv', index = None)\n",
        "#sin_diccionario.to_csv(path_out + '/wayuu/COMP_ND.csv', index = None)\n",
        "#sin_palabras_unicas_diccionario.to_csv(path_out + '/wayuu/COMP_NDU.csv', index = None)"
      ]
    },
    {
      "cell_type": "markdown",
      "metadata": {
        "id": "wGoyuV0hfT48"
      },
      "source": [
        "# Arhuaco"
      ]
    },
    {
      "cell_type": "markdown",
      "metadata": {
        "id": "otjSafF8fXia"
      },
      "source": [
        "### Lectura de datos"
      ]
    },
    {
      "cell_type": "code",
      "execution_count": 121,
      "metadata": {
        "colab": {
          "base_uri": "https://localhost:8080/"
        },
        "id": "o-z16G1BfIT4",
        "outputId": "7f168486-c83f-4890-f67a-522326f5960f"
      },
      "outputs": [
        {
          "data": {
            "text/plain": [
              "dict_keys(['cuento_traduccion', 'constitucion_arahuaco', 'cantos_traduccion', 'biblia_arahuaco'])"
            ]
          },
          "execution_count": 121,
          "metadata": {},
          "output_type": "execute_result"
        }
      ],
      "source": [
        "# Leemos los datos wayuu\n",
        "\n",
        "data_sets_arhuaco = {}\n",
        "for ds in glob(path + '/arhuaco/*'):\n",
        "  name = ds.split('/')[-1].split('.')[0]\n",
        "  if 'csv' in ds:\n",
        "    data_sets_arhuaco[name] = pd.read_csv(ds)\n",
        "  elif 'pickle' in ds:\n",
        "    with open(ds, 'rb') as file:\n",
        "      data_sets_arhuaco[name] = pd.DataFrame(pickle.load(file))\n",
        "\n",
        "# Vemos los datasets que hay\n",
        "data_sets_arhuaco.keys()"
      ]
    },
    {
      "cell_type": "markdown",
      "metadata": {
        "id": "N9bIpLvchMD1"
      },
      "source": [
        "### Limpieza\n",
        "Utilizamos la misma limpieza que para wayuu. Primero arreglamos los formatos de los dataframes."
      ]
    },
    {
      "cell_type": "code",
      "execution_count": 122,
      "metadata": {
        "id": "B9cHZZtlgAX9"
      },
      "outputs": [],
      "source": [
        "# Corrección de columnas\n",
        "\n",
        "correccion_columnas = {'arahuaco': 'arh', 'wayuu': 'arh'}\n",
        "for key, df in data_sets_arhuaco.items():\n",
        "  data_sets_arhuaco[key] = df.rename(columns = correccion_columnas)"
      ]
    },
    {
      "cell_type": "code",
      "execution_count": 124,
      "metadata": {
        "colab": {
          "base_uri": "https://localhost:8080/",
          "height": 206
        },
        "id": "FZDV9zR9i0kp",
        "outputId": "1b5013fe-30f2-4e7d-e28b-64d9a42ad605"
      },
      "outputs": [
        {
          "data": {
            "text/html": [
              "\n",
              "  <div id=\"df-200d5a39-c671-42fd-8402-cb4a3a22e3ac\" class=\"colab-df-container\">\n",
              "    <div>\n",
              "<style scoped>\n",
              "    .dataframe tbody tr th:only-of-type {\n",
              "        vertical-align: middle;\n",
              "    }\n",
              "\n",
              "    .dataframe tbody tr th {\n",
              "        vertical-align: top;\n",
              "    }\n",
              "\n",
              "    .dataframe thead th {\n",
              "        text-align: right;\n",
              "    }\n",
              "</style>\n",
              "<table border=\"1\" class=\"dataframe\">\n",
              "  <thead>\n",
              "    <tr style=\"text-align: right;\">\n",
              "      <th></th>\n",
              "      <th>arh</th>\n",
              "      <th>esp</th>\n",
              "    </tr>\n",
              "  </thead>\n",
              "  <tbody>\n",
              "    <tr>\n",
              "      <th>0</th>\n",
              "      <td>Joseri chʉwí ʉnkʉnisi a'mechʉkwey a'zanu' nánʉ...</td>\n",
              "      <td>No pudiendo ya contener la emoción ante los qu...</td>\n",
              "    </tr>\n",
              "    <tr>\n",
              "      <th>1</th>\n",
              "      <td>Joseri kúmʉ a'nisi ʉnmʉwari, egipsiw ɉinase' a...</td>\n",
              "      <td>Rompió a llorar tan fuerte que lo oyeron los e...</td>\n",
              "    </tr>\n",
              "    <tr>\n",
              "      <th>2</th>\n",
              "      <td>Joseri: —“Nʉndi, José nanu'kinarwe, ¿Nʉkakʉri ...</td>\n",
              "      <td>Entonces José dijo a sus hermanos:—Yo soy José...</td>\n",
              "    </tr>\n",
              "    <tr>\n",
              "      <th>3</th>\n",
              "      <td>Josese'ri: —“Umʉn mʉchey nʉka'nakow” key mʉche...</td>\n",
              "      <td>Pero él les dijo:—¡Acérquense!Ellos se acercar...</td>\n",
              "    </tr>\n",
              "    <tr>\n",
              "      <th>4</th>\n",
              "      <td>“Ʉwe'ki gwamʉ re'si nʉnhageynáchʉka, chʉwí ʉnk...</td>\n",
              "      <td>Pero no se aflijan ni se reprochen el haberme ...</td>\n",
              "    </tr>\n",
              "  </tbody>\n",
              "</table>\n",
              "</div>\n",
              "    <div class=\"colab-df-buttons\">\n",
              "\n",
              "  <div class=\"colab-df-container\">\n",
              "    <button class=\"colab-df-convert\" onclick=\"convertToInteractive('df-200d5a39-c671-42fd-8402-cb4a3a22e3ac')\"\n",
              "            title=\"Convert this dataframe to an interactive table.\"\n",
              "            style=\"display:none;\">\n",
              "\n",
              "  <svg xmlns=\"http://www.w3.org/2000/svg\" height=\"24px\" viewBox=\"0 -960 960 960\">\n",
              "    <path d=\"M120-120v-720h720v720H120Zm60-500h600v-160H180v160Zm220 220h160v-160H400v160Zm0 220h160v-160H400v160ZM180-400h160v-160H180v160Zm440 0h160v-160H620v160ZM180-180h160v-160H180v160Zm440 0h160v-160H620v160Z\"/>\n",
              "  </svg>\n",
              "    </button>\n",
              "\n",
              "  <style>\n",
              "    .colab-df-container {\n",
              "      display:flex;\n",
              "      gap: 12px;\n",
              "    }\n",
              "\n",
              "    .colab-df-convert {\n",
              "      background-color: #E8F0FE;\n",
              "      border: none;\n",
              "      border-radius: 50%;\n",
              "      cursor: pointer;\n",
              "      display: none;\n",
              "      fill: #1967D2;\n",
              "      height: 32px;\n",
              "      padding: 0 0 0 0;\n",
              "      width: 32px;\n",
              "    }\n",
              "\n",
              "    .colab-df-convert:hover {\n",
              "      background-color: #E2EBFA;\n",
              "      box-shadow: 0px 1px 2px rgba(60, 64, 67, 0.3), 0px 1px 3px 1px rgba(60, 64, 67, 0.15);\n",
              "      fill: #174EA6;\n",
              "    }\n",
              "\n",
              "    .colab-df-buttons div {\n",
              "      margin-bottom: 4px;\n",
              "    }\n",
              "\n",
              "    [theme=dark] .colab-df-convert {\n",
              "      background-color: #3B4455;\n",
              "      fill: #D2E3FC;\n",
              "    }\n",
              "\n",
              "    [theme=dark] .colab-df-convert:hover {\n",
              "      background-color: #434B5C;\n",
              "      box-shadow: 0px 1px 3px 1px rgba(0, 0, 0, 0.15);\n",
              "      filter: drop-shadow(0px 1px 2px rgba(0, 0, 0, 0.3));\n",
              "      fill: #FFFFFF;\n",
              "    }\n",
              "  </style>\n",
              "\n",
              "    <script>\n",
              "      const buttonEl =\n",
              "        document.querySelector('#df-200d5a39-c671-42fd-8402-cb4a3a22e3ac button.colab-df-convert');\n",
              "      buttonEl.style.display =\n",
              "        google.colab.kernel.accessAllowed ? 'block' : 'none';\n",
              "\n",
              "      async function convertToInteractive(key) {\n",
              "        const element = document.querySelector('#df-200d5a39-c671-42fd-8402-cb4a3a22e3ac');\n",
              "        const dataTable =\n",
              "          await google.colab.kernel.invokeFunction('convertToInteractive',\n",
              "                                                    [key], {});\n",
              "        if (!dataTable) return;\n",
              "\n",
              "        const docLinkHtml = 'Like what you see? Visit the ' +\n",
              "          '<a target=\"_blank\" href=https://colab.research.google.com/notebooks/data_table.ipynb>data table notebook</a>'\n",
              "          + ' to learn more about interactive tables.';\n",
              "        element.innerHTML = '';\n",
              "        dataTable['output_type'] = 'display_data';\n",
              "        await google.colab.output.renderOutput(dataTable, element);\n",
              "        const docLink = document.createElement('div');\n",
              "        docLink.innerHTML = docLinkHtml;\n",
              "        element.appendChild(docLink);\n",
              "      }\n",
              "    </script>\n",
              "  </div>\n",
              "\n",
              "\n",
              "<div id=\"df-9fbf9b5d-f174-4fa0-972a-9c10163b6820\">\n",
              "  <button class=\"colab-df-quickchart\" onclick=\"quickchart('df-9fbf9b5d-f174-4fa0-972a-9c10163b6820')\"\n",
              "            title=\"Suggest charts\"\n",
              "            style=\"display:none;\">\n",
              "\n",
              "<svg xmlns=\"http://www.w3.org/2000/svg\" height=\"24px\"viewBox=\"0 0 24 24\"\n",
              "     width=\"24px\">\n",
              "    <g>\n",
              "        <path d=\"M19 3H5c-1.1 0-2 .9-2 2v14c0 1.1.9 2 2 2h14c1.1 0 2-.9 2-2V5c0-1.1-.9-2-2-2zM9 17H7v-7h2v7zm4 0h-2V7h2v10zm4 0h-2v-4h2v4z\"/>\n",
              "    </g>\n",
              "</svg>\n",
              "  </button>\n",
              "\n",
              "<style>\n",
              "  .colab-df-quickchart {\n",
              "      --bg-color: #E8F0FE;\n",
              "      --fill-color: #1967D2;\n",
              "      --hover-bg-color: #E2EBFA;\n",
              "      --hover-fill-color: #174EA6;\n",
              "      --disabled-fill-color: #AAA;\n",
              "      --disabled-bg-color: #DDD;\n",
              "  }\n",
              "\n",
              "  [theme=dark] .colab-df-quickchart {\n",
              "      --bg-color: #3B4455;\n",
              "      --fill-color: #D2E3FC;\n",
              "      --hover-bg-color: #434B5C;\n",
              "      --hover-fill-color: #FFFFFF;\n",
              "      --disabled-bg-color: #3B4455;\n",
              "      --disabled-fill-color: #666;\n",
              "  }\n",
              "\n",
              "  .colab-df-quickchart {\n",
              "    background-color: var(--bg-color);\n",
              "    border: none;\n",
              "    border-radius: 50%;\n",
              "    cursor: pointer;\n",
              "    display: none;\n",
              "    fill: var(--fill-color);\n",
              "    height: 32px;\n",
              "    padding: 0;\n",
              "    width: 32px;\n",
              "  }\n",
              "\n",
              "  .colab-df-quickchart:hover {\n",
              "    background-color: var(--hover-bg-color);\n",
              "    box-shadow: 0 1px 2px rgba(60, 64, 67, 0.3), 0 1px 3px 1px rgba(60, 64, 67, 0.15);\n",
              "    fill: var(--button-hover-fill-color);\n",
              "  }\n",
              "\n",
              "  .colab-df-quickchart-complete:disabled,\n",
              "  .colab-df-quickchart-complete:disabled:hover {\n",
              "    background-color: var(--disabled-bg-color);\n",
              "    fill: var(--disabled-fill-color);\n",
              "    box-shadow: none;\n",
              "  }\n",
              "\n",
              "  .colab-df-spinner {\n",
              "    border: 2px solid var(--fill-color);\n",
              "    border-color: transparent;\n",
              "    border-bottom-color: var(--fill-color);\n",
              "    animation:\n",
              "      spin 1s steps(1) infinite;\n",
              "  }\n",
              "\n",
              "  @keyframes spin {\n",
              "    0% {\n",
              "      border-color: transparent;\n",
              "      border-bottom-color: var(--fill-color);\n",
              "      border-left-color: var(--fill-color);\n",
              "    }\n",
              "    20% {\n",
              "      border-color: transparent;\n",
              "      border-left-color: var(--fill-color);\n",
              "      border-top-color: var(--fill-color);\n",
              "    }\n",
              "    30% {\n",
              "      border-color: transparent;\n",
              "      border-left-color: var(--fill-color);\n",
              "      border-top-color: var(--fill-color);\n",
              "      border-right-color: var(--fill-color);\n",
              "    }\n",
              "    40% {\n",
              "      border-color: transparent;\n",
              "      border-right-color: var(--fill-color);\n",
              "      border-top-color: var(--fill-color);\n",
              "    }\n",
              "    60% {\n",
              "      border-color: transparent;\n",
              "      border-right-color: var(--fill-color);\n",
              "    }\n",
              "    80% {\n",
              "      border-color: transparent;\n",
              "      border-right-color: var(--fill-color);\n",
              "      border-bottom-color: var(--fill-color);\n",
              "    }\n",
              "    90% {\n",
              "      border-color: transparent;\n",
              "      border-bottom-color: var(--fill-color);\n",
              "    }\n",
              "  }\n",
              "</style>\n",
              "\n",
              "  <script>\n",
              "    async function quickchart(key) {\n",
              "      const quickchartButtonEl =\n",
              "        document.querySelector('#' + key + ' button');\n",
              "      quickchartButtonEl.disabled = true;  // To prevent multiple clicks.\n",
              "      quickchartButtonEl.classList.add('colab-df-spinner');\n",
              "      try {\n",
              "        const charts = await google.colab.kernel.invokeFunction(\n",
              "            'suggestCharts', [key], {});\n",
              "      } catch (error) {\n",
              "        console.error('Error during call to suggestCharts:', error);\n",
              "      }\n",
              "      quickchartButtonEl.classList.remove('colab-df-spinner');\n",
              "      quickchartButtonEl.classList.add('colab-df-quickchart-complete');\n",
              "    }\n",
              "    (() => {\n",
              "      let quickchartButtonEl =\n",
              "        document.querySelector('#df-9fbf9b5d-f174-4fa0-972a-9c10163b6820 button');\n",
              "      quickchartButtonEl.style.display =\n",
              "        google.colab.kernel.accessAllowed ? 'block' : 'none';\n",
              "    })();\n",
              "  </script>\n",
              "</div>\n",
              "    </div>\n",
              "  </div>\n"
            ],
            "text/plain": [
              "                                                 arh  \\\n",
              "0  Joseri chʉwí ʉnkʉnisi a'mechʉkwey a'zanu' nánʉ...   \n",
              "1  Joseri kúmʉ a'nisi ʉnmʉwari, egipsiw ɉinase' a...   \n",
              "2  Joseri: —“Nʉndi, José nanu'kinarwe, ¿Nʉkakʉri ...   \n",
              "3  Josese'ri: —“Umʉn mʉchey nʉka'nakow” key mʉche...   \n",
              "4  “Ʉwe'ki gwamʉ re'si nʉnhageynáchʉka, chʉwí ʉnk...   \n",
              "\n",
              "                                                 esp  \n",
              "0  No pudiendo ya contener la emoción ante los qu...  \n",
              "1  Rompió a llorar tan fuerte que lo oyeron los e...  \n",
              "2  Entonces José dijo a sus hermanos:—Yo soy José...  \n",
              "3  Pero él les dijo:—¡Acérquense!Ellos se acercar...  \n",
              "4  Pero no se aflijan ni se reprochen el haberme ...  "
            ]
          },
          "execution_count": 124,
          "metadata": {},
          "output_type": "execute_result"
        }
      ],
      "source": [
        "# Vemos cómo se ven antes\n",
        "data_sets_arhuaco['biblia_arahuaco'].head()"
      ]
    },
    {
      "cell_type": "code",
      "execution_count": 125,
      "metadata": {
        "id": "mFoF9U8Zf_M1"
      },
      "outputs": [],
      "source": [
        "# Limpieza\n",
        "\n",
        "for key, ds in data_sets_arhuaco.items():\n",
        "  ds.dropna(inplace = True)\n",
        "  ds['esp'] = ds['esp'].apply(clean_text)\n",
        "  ds['arh'] = ds['arh'].apply(clean_text)\n",
        "  data_sets_arhuaco[key] = ds[['esp', 'arh']]"
      ]
    },
    {
      "cell_type": "code",
      "execution_count": 126,
      "metadata": {
        "colab": {
          "base_uri": "https://localhost:8080/",
          "height": 206
        },
        "id": "Mw9WE5XPi3oO",
        "outputId": "9850600a-149d-4347-ea36-2f71147d38c8"
      },
      "outputs": [
        {
          "data": {
            "text/html": [
              "\n",
              "  <div id=\"df-6b6ce9aa-2c5e-4ffd-a5f2-8875a091e627\" class=\"colab-df-container\">\n",
              "    <div>\n",
              "<style scoped>\n",
              "    .dataframe tbody tr th:only-of-type {\n",
              "        vertical-align: middle;\n",
              "    }\n",
              "\n",
              "    .dataframe tbody tr th {\n",
              "        vertical-align: top;\n",
              "    }\n",
              "\n",
              "    .dataframe thead th {\n",
              "        text-align: right;\n",
              "    }\n",
              "</style>\n",
              "<table border=\"1\" class=\"dataframe\">\n",
              "  <thead>\n",
              "    <tr style=\"text-align: right;\">\n",
              "      <th></th>\n",
              "      <th>esp</th>\n",
              "      <th>arh</th>\n",
              "    </tr>\n",
              "  </thead>\n",
              "  <tbody>\n",
              "    <tr>\n",
              "      <th>0</th>\n",
              "      <td>no pudiendo ya contener la emocion ante los qu...</td>\n",
              "      <td>joseri chuwi unkunisi a'mechukwey a'zanu' nanu...</td>\n",
              "    </tr>\n",
              "    <tr>\n",
              "      <th>1</th>\n",
              "      <td>rompio a llorar tan fuerte que lo oyeron los e...</td>\n",
              "      <td>joseri kumu a'nisi unmuwari, egipsiw jinase' a...</td>\n",
              "    </tr>\n",
              "    <tr>\n",
              "      <th>2</th>\n",
              "      <td>entonces jose dijo a sus hermanos   yo soy jos...</td>\n",
              "      <td>joseri     nundi, jose nanu'kinarwe,  nukakuri...</td>\n",
              "    </tr>\n",
              "    <tr>\n",
              "      <th>3</th>\n",
              "      <td>pero el les dijo    acerquense ellos se acerca...</td>\n",
              "      <td>josese'ri     umun muchey nuka'nakow  key much...</td>\n",
              "    </tr>\n",
              "    <tr>\n",
              "      <th>4</th>\n",
              "      <td>pero no se aflijan ni se reprochen el haberme ...</td>\n",
              "      <td>uwe'ki gwamu re'si nunhageynachuka, chuwi unk...</td>\n",
              "    </tr>\n",
              "  </tbody>\n",
              "</table>\n",
              "</div>\n",
              "    <div class=\"colab-df-buttons\">\n",
              "\n",
              "  <div class=\"colab-df-container\">\n",
              "    <button class=\"colab-df-convert\" onclick=\"convertToInteractive('df-6b6ce9aa-2c5e-4ffd-a5f2-8875a091e627')\"\n",
              "            title=\"Convert this dataframe to an interactive table.\"\n",
              "            style=\"display:none;\">\n",
              "\n",
              "  <svg xmlns=\"http://www.w3.org/2000/svg\" height=\"24px\" viewBox=\"0 -960 960 960\">\n",
              "    <path d=\"M120-120v-720h720v720H120Zm60-500h600v-160H180v160Zm220 220h160v-160H400v160Zm0 220h160v-160H400v160ZM180-400h160v-160H180v160Zm440 0h160v-160H620v160ZM180-180h160v-160H180v160Zm440 0h160v-160H620v160Z\"/>\n",
              "  </svg>\n",
              "    </button>\n",
              "\n",
              "  <style>\n",
              "    .colab-df-container {\n",
              "      display:flex;\n",
              "      gap: 12px;\n",
              "    }\n",
              "\n",
              "    .colab-df-convert {\n",
              "      background-color: #E8F0FE;\n",
              "      border: none;\n",
              "      border-radius: 50%;\n",
              "      cursor: pointer;\n",
              "      display: none;\n",
              "      fill: #1967D2;\n",
              "      height: 32px;\n",
              "      padding: 0 0 0 0;\n",
              "      width: 32px;\n",
              "    }\n",
              "\n",
              "    .colab-df-convert:hover {\n",
              "      background-color: #E2EBFA;\n",
              "      box-shadow: 0px 1px 2px rgba(60, 64, 67, 0.3), 0px 1px 3px 1px rgba(60, 64, 67, 0.15);\n",
              "      fill: #174EA6;\n",
              "    }\n",
              "\n",
              "    .colab-df-buttons div {\n",
              "      margin-bottom: 4px;\n",
              "    }\n",
              "\n",
              "    [theme=dark] .colab-df-convert {\n",
              "      background-color: #3B4455;\n",
              "      fill: #D2E3FC;\n",
              "    }\n",
              "\n",
              "    [theme=dark] .colab-df-convert:hover {\n",
              "      background-color: #434B5C;\n",
              "      box-shadow: 0px 1px 3px 1px rgba(0, 0, 0, 0.15);\n",
              "      filter: drop-shadow(0px 1px 2px rgba(0, 0, 0, 0.3));\n",
              "      fill: #FFFFFF;\n",
              "    }\n",
              "  </style>\n",
              "\n",
              "    <script>\n",
              "      const buttonEl =\n",
              "        document.querySelector('#df-6b6ce9aa-2c5e-4ffd-a5f2-8875a091e627 button.colab-df-convert');\n",
              "      buttonEl.style.display =\n",
              "        google.colab.kernel.accessAllowed ? 'block' : 'none';\n",
              "\n",
              "      async function convertToInteractive(key) {\n",
              "        const element = document.querySelector('#df-6b6ce9aa-2c5e-4ffd-a5f2-8875a091e627');\n",
              "        const dataTable =\n",
              "          await google.colab.kernel.invokeFunction('convertToInteractive',\n",
              "                                                    [key], {});\n",
              "        if (!dataTable) return;\n",
              "\n",
              "        const docLinkHtml = 'Like what you see? Visit the ' +\n",
              "          '<a target=\"_blank\" href=https://colab.research.google.com/notebooks/data_table.ipynb>data table notebook</a>'\n",
              "          + ' to learn more about interactive tables.';\n",
              "        element.innerHTML = '';\n",
              "        dataTable['output_type'] = 'display_data';\n",
              "        await google.colab.output.renderOutput(dataTable, element);\n",
              "        const docLink = document.createElement('div');\n",
              "        docLink.innerHTML = docLinkHtml;\n",
              "        element.appendChild(docLink);\n",
              "      }\n",
              "    </script>\n",
              "  </div>\n",
              "\n",
              "\n",
              "<div id=\"df-15fa72dc-da66-4ce0-96d3-36291c267eee\">\n",
              "  <button class=\"colab-df-quickchart\" onclick=\"quickchart('df-15fa72dc-da66-4ce0-96d3-36291c267eee')\"\n",
              "            title=\"Suggest charts\"\n",
              "            style=\"display:none;\">\n",
              "\n",
              "<svg xmlns=\"http://www.w3.org/2000/svg\" height=\"24px\"viewBox=\"0 0 24 24\"\n",
              "     width=\"24px\">\n",
              "    <g>\n",
              "        <path d=\"M19 3H5c-1.1 0-2 .9-2 2v14c0 1.1.9 2 2 2h14c1.1 0 2-.9 2-2V5c0-1.1-.9-2-2-2zM9 17H7v-7h2v7zm4 0h-2V7h2v10zm4 0h-2v-4h2v4z\"/>\n",
              "    </g>\n",
              "</svg>\n",
              "  </button>\n",
              "\n",
              "<style>\n",
              "  .colab-df-quickchart {\n",
              "      --bg-color: #E8F0FE;\n",
              "      --fill-color: #1967D2;\n",
              "      --hover-bg-color: #E2EBFA;\n",
              "      --hover-fill-color: #174EA6;\n",
              "      --disabled-fill-color: #AAA;\n",
              "      --disabled-bg-color: #DDD;\n",
              "  }\n",
              "\n",
              "  [theme=dark] .colab-df-quickchart {\n",
              "      --bg-color: #3B4455;\n",
              "      --fill-color: #D2E3FC;\n",
              "      --hover-bg-color: #434B5C;\n",
              "      --hover-fill-color: #FFFFFF;\n",
              "      --disabled-bg-color: #3B4455;\n",
              "      --disabled-fill-color: #666;\n",
              "  }\n",
              "\n",
              "  .colab-df-quickchart {\n",
              "    background-color: var(--bg-color);\n",
              "    border: none;\n",
              "    border-radius: 50%;\n",
              "    cursor: pointer;\n",
              "    display: none;\n",
              "    fill: var(--fill-color);\n",
              "    height: 32px;\n",
              "    padding: 0;\n",
              "    width: 32px;\n",
              "  }\n",
              "\n",
              "  .colab-df-quickchart:hover {\n",
              "    background-color: var(--hover-bg-color);\n",
              "    box-shadow: 0 1px 2px rgba(60, 64, 67, 0.3), 0 1px 3px 1px rgba(60, 64, 67, 0.15);\n",
              "    fill: var(--button-hover-fill-color);\n",
              "  }\n",
              "\n",
              "  .colab-df-quickchart-complete:disabled,\n",
              "  .colab-df-quickchart-complete:disabled:hover {\n",
              "    background-color: var(--disabled-bg-color);\n",
              "    fill: var(--disabled-fill-color);\n",
              "    box-shadow: none;\n",
              "  }\n",
              "\n",
              "  .colab-df-spinner {\n",
              "    border: 2px solid var(--fill-color);\n",
              "    border-color: transparent;\n",
              "    border-bottom-color: var(--fill-color);\n",
              "    animation:\n",
              "      spin 1s steps(1) infinite;\n",
              "  }\n",
              "\n",
              "  @keyframes spin {\n",
              "    0% {\n",
              "      border-color: transparent;\n",
              "      border-bottom-color: var(--fill-color);\n",
              "      border-left-color: var(--fill-color);\n",
              "    }\n",
              "    20% {\n",
              "      border-color: transparent;\n",
              "      border-left-color: var(--fill-color);\n",
              "      border-top-color: var(--fill-color);\n",
              "    }\n",
              "    30% {\n",
              "      border-color: transparent;\n",
              "      border-left-color: var(--fill-color);\n",
              "      border-top-color: var(--fill-color);\n",
              "      border-right-color: var(--fill-color);\n",
              "    }\n",
              "    40% {\n",
              "      border-color: transparent;\n",
              "      border-right-color: var(--fill-color);\n",
              "      border-top-color: var(--fill-color);\n",
              "    }\n",
              "    60% {\n",
              "      border-color: transparent;\n",
              "      border-right-color: var(--fill-color);\n",
              "    }\n",
              "    80% {\n",
              "      border-color: transparent;\n",
              "      border-right-color: var(--fill-color);\n",
              "      border-bottom-color: var(--fill-color);\n",
              "    }\n",
              "    90% {\n",
              "      border-color: transparent;\n",
              "      border-bottom-color: var(--fill-color);\n",
              "    }\n",
              "  }\n",
              "</style>\n",
              "\n",
              "  <script>\n",
              "    async function quickchart(key) {\n",
              "      const quickchartButtonEl =\n",
              "        document.querySelector('#' + key + ' button');\n",
              "      quickchartButtonEl.disabled = true;  // To prevent multiple clicks.\n",
              "      quickchartButtonEl.classList.add('colab-df-spinner');\n",
              "      try {\n",
              "        const charts = await google.colab.kernel.invokeFunction(\n",
              "            'suggestCharts', [key], {});\n",
              "      } catch (error) {\n",
              "        console.error('Error during call to suggestCharts:', error);\n",
              "      }\n",
              "      quickchartButtonEl.classList.remove('colab-df-spinner');\n",
              "      quickchartButtonEl.classList.add('colab-df-quickchart-complete');\n",
              "    }\n",
              "    (() => {\n",
              "      let quickchartButtonEl =\n",
              "        document.querySelector('#df-15fa72dc-da66-4ce0-96d3-36291c267eee button');\n",
              "      quickchartButtonEl.style.display =\n",
              "        google.colab.kernel.accessAllowed ? 'block' : 'none';\n",
              "    })();\n",
              "  </script>\n",
              "</div>\n",
              "    </div>\n",
              "  </div>\n"
            ],
            "text/plain": [
              "                                                 esp  \\\n",
              "0  no pudiendo ya contener la emocion ante los qu...   \n",
              "1  rompio a llorar tan fuerte que lo oyeron los e...   \n",
              "2  entonces jose dijo a sus hermanos   yo soy jos...   \n",
              "3  pero el les dijo    acerquense ellos se acerca...   \n",
              "4  pero no se aflijan ni se reprochen el haberme ...   \n",
              "\n",
              "                                                 arh  \n",
              "0  joseri chuwi unkunisi a'mechukwey a'zanu' nanu...  \n",
              "1  joseri kumu a'nisi unmuwari, egipsiw jinase' a...  \n",
              "2  joseri     nundi, jose nanu'kinarwe,  nukakuri...  \n",
              "3  josese'ri     umun muchey nuka'nakow  key much...  \n",
              "4   uwe'ki gwamu re'si nunhageynachuka, chuwi unk...  "
            ]
          },
          "execution_count": 126,
          "metadata": {},
          "output_type": "execute_result"
        }
      ],
      "source": [
        "# Vemos cómo se ven después de la limpieza\n",
        "data_sets_arhuaco['biblia_arahuaco'].head()"
      ]
    },
    {
      "cell_type": "markdown",
      "metadata": {
        "id": "uCAWBWwqjRWz"
      },
      "source": [
        "### Separar"
      ]
    },
    {
      "cell_type": "code",
      "execution_count": 127,
      "metadata": {
        "colab": {
          "base_uri": "https://localhost:8080/"
        },
        "id": "cZwzSdAKjWBe",
        "outputId": "343ffaf4-c103-47e6-db23-0a002648b446"
      },
      "outputs": [
        {
          "data": {
            "text/plain": [
              "dict_keys(['cuento_traduccion', 'constitucion_arahuaco', 'cantos_traduccion', 'biblia_arahuaco'])"
            ]
          },
          "execution_count": 127,
          "metadata": {},
          "output_type": "execute_result"
        }
      ],
      "source": [
        "data_sets_arhuaco.keys()"
      ]
    },
    {
      "cell_type": "code",
      "execution_count": 128,
      "metadata": {
        "colab": {
          "base_uri": "https://localhost:8080/"
        },
        "id": "MXa90cWQi8aW",
        "outputId": "aa1fd044-811e-4ac7-971f-c02434dedc1b"
      },
      "outputs": [
        {
          "data": {
            "text/plain": [
              "(5735, 2)"
            ]
          },
          "execution_count": 128,
          "metadata": {},
          "output_type": "execute_result"
        }
      ],
      "source": [
        "# Dataset completo\n",
        "data_set_completo_arh = pd.concat([data_sets_arhuaco['cuento_traduccion'],\n",
        "                      data_sets_arhuaco['constitucion_arahuaco'],\n",
        "                      data_sets_arhuaco['cantos_traduccion'],\n",
        "                      data_sets_arhuaco['biblia_arahuaco']]).drop_duplicates()\n",
        "\n",
        "data_set_completo_arh.shape"
      ]
    },
    {
      "cell_type": "code",
      "execution_count": 129,
      "metadata": {
        "colab": {
          "base_uri": "https://localhost:8080/"
        },
        "id": "YNrKxR7GjZ2y",
        "outputId": "2ef7989c-5132-4699-b72b-4d40db86145c"
      },
      "outputs": [
        {
          "data": {
            "text/plain": [
              "(5624, 2)"
            ]
          },
          "execution_count": 129,
          "metadata": {},
          "output_type": "execute_result"
        }
      ],
      "source": [
        "# Dataset sin la consititucion\n",
        "sin_constitucion_arh = pd.concat([data_sets_arhuaco['cuento_traduccion'],\n",
        "                      data_sets_arhuaco['cantos_traduccion'],\n",
        "                      data_sets_arhuaco['biblia_arahuaco']]).drop_duplicates()\n",
        "\n",
        "sin_constitucion_arh.shape"
      ]
    },
    {
      "cell_type": "code",
      "execution_count": 130,
      "metadata": {
        "colab": {
          "base_uri": "https://localhost:8080/"
        },
        "id": "i9VWyaHCjif1",
        "outputId": "6041db4c-4c01-43e3-90e5-95bbe45393d5"
      },
      "outputs": [
        {
          "data": {
            "text/plain": [
              "(5563, 2)"
            ]
          },
          "execution_count": 130,
          "metadata": {},
          "output_type": "execute_result"
        }
      ],
      "source": [
        "# Dataset solo con la biblia\n",
        "biblia_arh = pd.concat([data_sets_arhuaco['biblia_arahuaco']]).drop_duplicates()\n",
        "\n",
        "biblia_arh.shape"
      ]
    },
    {
      "cell_type": "markdown",
      "metadata": {
        "id": "6AhYgPwdjueM"
      },
      "source": [
        "### Guardar"
      ]
    },
    {
      "cell_type": "code",
      "execution_count": 131,
      "metadata": {
        "id": "NLuIMPmkjrwP"
      },
      "outputs": [],
      "source": [
        "#data_set_completo_arh.to_csv(path_out + '/arhuaco/COMP.csv', index = None)\n",
        "#sin_constitucion_arh.to_csv(path_out + '/arhuaco/COMP_NC.csv', index = None)\n",
        "#biblia_arh.to_csv(path_out + '/arhuaco/BIBLIA.csv', index = None)"
      ]
    },
    {
      "cell_type": "markdown",
      "metadata": {
        "id": "boNvHrb6kgDs"
      },
      "source": [
        "# Gráficos de resumen para el artículo"
      ]
    },
    {
      "cell_type": "code",
      "execution_count": 149,
      "metadata": {
        "id": "bJujcFoukIIx"
      },
      "outputs": [],
      "source": [
        "import seaborn as sns\n",
        "from matplotlib import pyplot as plt\n",
        "sns.set_style(\"whitegrid\")\n"
      ]
    },
    {
      "cell_type": "code",
      "execution_count": 157,
      "metadata": {
        "colab": {
          "base_uri": "https://localhost:8080/",
          "height": 468
        },
        "id": "nyFb81XRkkQU",
        "outputId": "13888f21-5c8d-4caf-df35-26f3baa6ead1"
      },
      "outputs": [
        {
          "data": {
            "image/png": "[encoded data removed]",
            "text/plain": [
              "<Figure size 1500x500 with 2 Axes>"
            ]
          },
          "metadata": {},
          "output_type": "display_data"
        }
      ],
      "source": [
        "wayuu_num_datos = {'WA_COMP': data_set_completo.shape[0],\n",
        "                   'WA_COMP_NC': sin_constitucion.shape[0],\n",
        "                   'WA_COMP_NDU': sin_palabras_unicas_diccionario.shape[0],\n",
        "                   'WA_COMP_ND': sin_diccionario.shape[0]}\n",
        "\n",
        "arhuaco_num_datos = {'AR_COMP': data_set_completo_arh.shape[0],\n",
        "                     'AR_COMP_NC': sin_constitucion_arh.shape[0],\n",
        "                     'AR_BIBLIA': biblia_arh.shape[0]}\n",
        "\n",
        "fig, axes = plt.subplots(ncols = 2, sharey = True, figsize = (15,5))\n",
        "\n",
        "sns.barplot(x = list(wayuu_num_datos.keys()), y = list(wayuu_num_datos.values()), ax = axes[0], palette=\"deep\")\n",
        "axes[0].bar_label(axes[0].containers[0])\n",
        "axes[0].set_title('Número de registros por dataset - Wayuu')\n",
        "\n",
        "sns.barplot(x = list(arhuaco_num_datos.keys()), y = list(arhuaco_num_datos.values()), ax = axes[1], palette=\"deep\")\n",
        "axes[1].bar_label(axes[1].containers[0])\n",
        "axes[1].set_title('Número de registros por dataset - Arhuaco')\n",
        "\n",
        "sns.despine(left=True)\n",
        "\n",
        "fig.savefig(path_out + \"/num_datos.png\")"
      ]
    },
    {
      "cell_type": "code",
      "execution_count": null,
      "metadata": {
        "id": "1uKXswmYlAS5"
      },
      "outputs": [],
      "source": []
    }
  ],
  "metadata": {
    "colab": {
      "provenance": []
    },
    "kernelspec": {
      "display_name": "Python 3",
      "name": "python3"
    },
    "language_info": {
      "name": "python"
    }
  },
  "nbformat": 4,
  "nbformat_minor": 0
}
